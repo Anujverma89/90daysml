{
 "cells": [
  {
   "cell_type": "markdown",
   "id": "2a9888bd-1a8e-4e51-92f5-3988569273c3",
   "metadata": {},
   "source": [
    "# Maths Refresher\n",
    "### **Matrix Decomposition** "
   ]
  },
  {
   "cell_type": "code",
   "execution_count": null,
   "id": "a432a0b2-8e93-491c-bc0f-9a57013d78da",
   "metadata": {},
   "outputs": [],
   "source": [
    "# Road map for matrix decomposition \n",
    "from PIL import Image \n",
    "import matplotlib.pyplot as plt \n",
    "import numpy as np \n",
    "img = Image.open(\"./matrix_decomposition.png\")\n",
    "imgarray = np.array(img)\n",
    "plt.figure(figsize=(20,12))\n",
    "plt.axis(\"off\")\n",
    "plt.imshow(imgarray)"
   ]
  }
 ],
 "metadata": {
  "kernelspec": {
   "display_name": "Python 3 (ipykernel)",
   "language": "python",
   "name": "python3"
  },
  "language_info": {
   "codemirror_mode": {
    "name": "ipython",
    "version": 3
   },
   "file_extension": ".py",
   "mimetype": "text/x-python",
   "name": "python",
   "nbconvert_exporter": "python",
   "pygments_lexer": "ipython3",
   "version": "3.12.7"
  }
 },
 "nbformat": 4,
 "nbformat_minor": 5
}
