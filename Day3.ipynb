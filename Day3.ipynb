{
 "cells": [
  {
   "cell_type": "markdown",
   "id": "1cdda182-6062-4f52-a075-21d83f7cff8e",
   "metadata": {},
   "source": [
    "# **Maths Refresher** \n",
    "# Linear Algebra continued \n",
    "### **System of linear equation**"
   ]
  },
  {
   "cell_type": "markdown",
   "id": "6671b633-f3c1-4848-9cae-268c4c151fac",
   "metadata": {},
   "source": [
    "## Representation \n",
    "* A system of linear equations with two variables (e.g., x and y) can be represented as a line in a 2D space.\n",
    "* A system with three variables (e.g., x, y, and z) can be represented as a plane in 3D space.\n",
    "* A system with more than three variables exists in n-dimensional space and is represented as a hyperplane (a generalization of a plane to higher dimensions).\n",
    "* A hyperplane in n-dimensional space is a flat subspace with dimension (n - 1). For example, in 4D space, a hyperplane is 3D."
   ]
  },
  {
   "cell_type": "markdown",
   "id": "b7e8df08-a160-4669-b490-e934ff8cc65f",
   "metadata": {},
   "source": [
    "### Types of system of linear equation \n",
    "* Homogeneous\n",
    "* Non Homogenous"
   ]
  },
  {
   "cell_type": "markdown",
   "id": "60612b3d-d3ba-42a6-8ff2-0495670f0f07",
   "metadata": {},
   "source": [
    "# Solution of system of linear equation \n",
    "**( Weights and biases in machine learning are similar to fiding the solution of a system of linear equation)**\n",
    "* Finding inverse of a matrix (Used by OLS)\n",
    "* Elementry Transformation (Make an augmented matrix matrix-vector notation)\n",
    "  * Row echlon Form\n",
    "  * Reduced Row Echlon Form\n",
    "* The minus one trick \n",
    "\n",
    "### No of solutions : \n",
    "* If the number of variables is greater than the number of equations:\n",
    "  * Infinite solutions (typically when there are free variables, meaning some variables can take arbitrary values).\n",
    "  * If the system is inconsistent, meaning the equations contradict each other (for example, they represent parallel lines that never intersect), then there is no solution.\n",
    "\n",
    "* If the number of variables equals the number of equations:\n",
    "  * Unique solution (if the system is consistent and the determinant is non-zero, meaning the system has full rank).\n",
    "  * No solution (if the system is inconsistent, meaning the equations contradict each other).\n",
    "\n",
    "* If the number of variables is less than the number of equations:\n",
    "  * No solution (if the system is inconsistent and the equations can't all be satisfied at once).\n",
    "  * Unique solution (if the system is consistent and has a unique solution, which can happen in specific cases when the equations are independent).\n",
    "\n",
    " "
   ]
  },
  {
   "cell_type": "markdown",
   "id": "a4f76b69-5dfd-47be-a1ed-573497d441a8",
   "metadata": {},
   "source": [
    "# Vector space : \n",
    "* A strucutred space where vectors live.\n",
    "* Group is a set of elements and operations defined on a elements that keep some structure of set intact "
   ]
  }
 ],
 "metadata": {
  "kernelspec": {
   "display_name": "Python 3 (ipykernel)",
   "language": "python",
   "name": "python3"
  },
  "language_info": {
   "codemirror_mode": {
    "name": "ipython",
    "version": 3
   },
   "file_extension": ".py",
   "mimetype": "text/x-python",
   "name": "python",
   "nbconvert_exporter": "python",
   "pygments_lexer": "ipython3",
   "version": "3.12.7"
  }
 },
 "nbformat": 4,
 "nbformat_minor": 5
}
