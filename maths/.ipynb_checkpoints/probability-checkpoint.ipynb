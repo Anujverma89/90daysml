{
 "cells": [
  {
   "cell_type": "markdown",
   "id": "5bfe3a65-3800-44ea-a27d-e3eaf841aafb",
   "metadata": {},
   "source": [
    "# Probability : How likely something will happen? \n",
    "* It exits where there is uncertainity\n",
    "* It is the way to quanitify the uncertainity, chance of something.\n",
    "\n",
    "```eg : \n",
    "Random experiment : Tossing a coin.\n",
    "Sample space : {H, T}\n",
    "Probability of getting head p(H) = 1/2 (we can get head once out of 2 possible outcome)\n",
    "Probability of getting tail p(T) = 1/2 ( we can get tail once out of 2 possible outcome)\n",
    "```\n",
    "\n",
    "### Likelihood : Exists in conditional probability.\n",
    "* eg :\n",
    "* Probability : what is the probability of being spam if contains the discount\n",
    "* Likelihood : what is the probablity of discount if the email is spam.\n",
    "\n",
    "### Conditional probablity : \n",
    "* p(A/B) = p(A ∩ b) / p(B)\n",
    "* p(B/A) = p(B ∩ A) / p(A)\n",
    "* p(A/B)*p(B) = p (A ∩ B)\n",
    "* p(B/A)*p(A) = p (B ∩ A)\n",
    "* p(A/B)*p(B) = p(B/A)*p(A)\n",
    "* p(A/B) =  p(B/A)*p(A) / p(B)\n",
    "* p(B/A) = p(A/B)*p(B) / p(A)  (Bayes theorm)\n",
    "\n",
    "\n",
    "# Types of probabilities : \n",
    "* Regular probability\n",
    "* Conditional probability\n",
    "* Dependenet probability\n",
    "* Independent probabiblity\n",
    "\n",
    "\n",
    "# Event : The outcome of a random experiment is called event.\n",
    "### event is a subset of a sample space of an random experiment.\n",
    "* eg. Rolling a die is an random exeriemnt.\n",
    "* getting 1 is an event simple event\n",
    "* gettting even number is a compound event\n",
    "* getting 1 & 5 is mutually exclusive event\n",
    "\n",
    "* Now tossing a head and rolling a die together\n",
    "* Getting head and getting 5 is a independent event\n",
    "* \n",
    "\n",
    "# Types of events : \n",
    "* Simple event : Rolling a 5 on  a die \n",
    "* Mutually exclusive event : Cannot happen at same time ( Like rolling a 5 & 6 on a die) \n",
    "* Independet event : Tossing a two coin (getting head in one and tail in other) \n",
    "* Compound event : Rolling a even number on a die (2,4,6) \n",
    "* Dependent event : If event is dependent on other. like probability of getting red card after replacement : (26/52)\n",
    "* Impossible event : event that cannot happen like 8 on a die\n",
    "* Certain event : getting head or tail while tossing a coin \n",
    "* Complimentry event : Getting tail while event is head\n",
    "* Exhaustive event : A set of all events that represent the sameple space.\n",
    "\n",
    "\n",
    "# I'll explain you with an example : \n",
    "* Tossing a coin is an random experiment\n",
    "* Getting a tail is an event (simple event)\n",
    "* Getting a 5 is a impossible event\n",
    "* Getting a head or tail is sure event\n",
    "* If event is getting head so complimentry event is getting tail"
   ]
  },
  {
   "cell_type": "code",
   "execution_count": 72,
   "id": "cddf1062-562c-41d0-97eb-bddab412586c",
   "metadata": {},
   "outputs": [],
   "source": [
    "# Rolling a die simulation \n",
    "import random\n",
    "import pandas as pd\n",
    "result=[]\n",
    "for i in range(1000):\n",
    "    result.append(random.randint(1,6))"
   ]
  },
  {
   "cell_type": "code",
   "execution_count": 73,
   "id": "5f551450-3378-4ca1-88d3-c65623105a98",
   "metadata": {},
   "outputs": [],
   "source": [
    "array = pd.DataFrame(result)"
   ]
  },
  {
   "cell_type": "code",
   "execution_count": 74,
   "id": "cb38850a-d60f-4bd5-96c8-d0f5a319b66e",
   "metadata": {},
   "outputs": [],
   "source": [
    "values = array.value_counts().sort_index()"
   ]
  },
  {
   "cell_type": "code",
   "execution_count": 75,
   "id": "1c1a3b12-b829-4376-b5c6-dd6f74fa98d4",
   "metadata": {},
   "outputs": [
    {
     "data": {
      "text/plain": [
       "0\n",
       "1    159\n",
       "2    171\n",
       "3    166\n",
       "4    144\n",
       "5    170\n",
       "6    190\n",
       "Name: count, dtype: int64"
      ]
     },
     "execution_count": 75,
     "metadata": {},
     "output_type": "execute_result"
    }
   ],
   "source": [
    "values"
   ]
  },
  {
   "cell_type": "code",
   "execution_count": 76,
   "id": "ac508b37-ef65-4597-bcb9-17c4a5e34da6",
   "metadata": {},
   "outputs": [],
   "source": [
    "prob = values/array.value_counts().sum()"
   ]
  },
  {
   "cell_type": "code",
   "execution_count": 77,
   "id": "0b18bbd1-e143-467e-bea5-6c126e14832b",
   "metadata": {},
   "outputs": [
    {
     "data": {
      "text/plain": [
       "0\n",
       "1    0.159\n",
       "2    0.171\n",
       "3    0.166\n",
       "4    0.144\n",
       "5    0.170\n",
       "6    0.190\n",
       "Name: count, dtype: float64"
      ]
     },
     "execution_count": 77,
     "metadata": {},
     "output_type": "execute_result"
    }
   ],
   "source": [
    "prob"
   ]
  },
  {
   "cell_type": "code",
   "execution_count": 78,
   "id": "fcdd3d09-c909-4e2f-a8b2-091b213752b4",
   "metadata": {},
   "outputs": [],
   "source": [
    "x = [1,2,3,4,5,6]"
   ]
  },
  {
   "cell_type": "code",
   "execution_count": 79,
   "id": "0bdefd76-f947-4266-95cb-d560176ad9c1",
   "metadata": {},
   "outputs": [
    {
     "data": {
      "text/plain": [
       "<Axes: xlabel='0'>"
      ]
     },
     "execution_count": 79,
     "metadata": {},
     "output_type": "execute_result"
    },
    {
     "data": {
      "image/png": "[encoded data removed]",
      "text/plain": [
       "<Figure size 640x480 with 1 Axes>"
      ]
     },
     "metadata": {},
     "output_type": "display_data"
    }
   ],
   "source": [
    "prob.plot(kind=\"bar\")"
   ]
  },
  {
   "cell_type": "code",
   "execution_count": 80,
   "id": "35a41d84-dc44-453a-a3d6-a9a8d3da25fa",
   "metadata": {},
   "outputs": [],
   "source": [
    "# the above is pmf of dice rolled for 100 times "
   ]
  },
  {
   "cell_type": "code",
   "execution_count": null,
   "id": "a7ebb85e-6112-4388-ab77-e0ccf7f0c608",
   "metadata": {},
   "outputs": [],
   "source": []
  }
 ],
 "metadata": {
  "kernelspec": {
   "display_name": "Python 3 (ipykernel)",
   "language": "python",
   "name": "python3"
  },
  "language_info": {
   "codemirror_mode": {
    "name": "ipython",
    "version": 3
   },
   "file_extension": ".py",
   "mimetype": "text/x-python",
   "name": "python",
   "nbconvert_exporter": "python",
   "pygments_lexer": "ipython3",
   "version": "3.12.7"
  }
 },
 "nbformat": 4,
 "nbformat_minor": 5
}
