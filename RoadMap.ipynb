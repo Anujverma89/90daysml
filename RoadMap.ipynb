{
 "cells": [
  {
   "attachments": {},
   "cell_type": "markdown",
   "id": "30c76d8e-97d6-4521-887d-66fca7433567",
   "metadata": {},
   "source": [
    "\n",
    "# ML Pipe line : \n",
    "* Problem identification\n",
    "* Data gathering\n",
    "* Data preprocessing\n",
    "* Model Fitting / training \n",
    "* Validation & testing\n",
    "* Then retraining & MlOOPS "
   ]
  },
  {
   "cell_type": "markdown",
   "id": "23df5e48-da40-45df-bbe5-3a4c7d80b904",
   "metadata": {},
   "source": [
    "# 🌱 Phase 1: Foundations (Basic Knowledge)\n",
    "1. Math Essentials\n",
    "Linear Algebra: vectors, matrices, dot product\n",
    "\n",
    "Probability & Statistics: distributions, Bayes’ theorem\n",
    "\n",
    "Calculus: gradients, derivatives (basics for backpropagation)\n",
    "\n",
    "📚 Resources:\n",
    "\n",
    "3Blue1Brown (YouTube)\n",
    "\n",
    "Khan Academy\n",
    "\n",
    "2. Programming\n",
    "Learn Python\n",
    "\n",
    "Libraries: NumPy, Pandas, Matplotlib, Scikit-learn\n",
    "\n",
    "📚 Resources:\n",
    "\n",
    "Python for Everybody (free course)\n",
    "\n",
    "Kaggle’s Python course\n",
    "\n",
    "3. Machine Learning Basics\n",
    "Supervised vs. Unsupervised Learning\n",
    "\n",
    "Regression, Classification, Clustering\n",
    "\n",
    "Overfitting, cross-validation, evaluation metrics\n",
    "\n",
    "📚 Resources:\n",
    "\n",
    "Andrew Ng’s ML Course (Coursera)\n",
    "\n",
    "Google’s Machine Learning Crash Cours"
   ]
  },
  {
   "cell_type": "markdown",
   "id": "1a6c1f55-1e37-427d-8ff4-247cd700a78c",
   "metadata": {},
   "source": [
    "# 🚀 Phase 2: Deep Learning\n",
    "1. Core Concepts\n",
    "Neural Networks, Activation Functions\n",
    "\n",
    "Backpropagation & Gradient Descent\n",
    "\n",
    "CNNs, RNNs, LSTMs\n",
    "\n",
    "2. Frameworks\n",
    "TensorFlow or PyTorch (pick one, PyTorch is more beginner-friendly)\n",
    "\n",
    "Learn to build models from scratch\n",
    "\n",
    "📚 Resources:\n",
    "\n",
    "DeepLearning.AI Specialization (Coursera)\n",
    "\n",
    "Fast.ai Practical Deep Learning\n",
    "\n"
   ]
  },
  {
   "cell_type": "markdown",
   "id": "f0ff9e5b-a188-4dd2-b598-b3ec7bab54b1",
   "metadata": {},
   "source": [
    "# Phase 3: Generative AI Essentials\n",
    "1. Autoencoders\n",
    "Vanilla Autoencoders\n",
    "\n",
    "Variational Autoencoders (VAEs)\n",
    "\n",
    "2. GANs (Generative Adversarial Networks)\n",
    "Vanilla GAN\n",
    "\n",
    "DCGAN, Conditional GAN, CycleGAN, StyleGAN\n",
    "\n",
    "3. Transformers\n",
    "Attention Mechanism\n",
    "\n",
    "Transformers (Vaswani et al.)\n",
    "\n",
    "BERT, GPT family\n",
    "\n",
    "📚 Resources:\n",
    "\n",
    "“The Illustrated Transformer” by Jay Alammar\n",
    "\n",
    "HuggingFace’s Course (transformers, datasets, tokenizers)"
   ]
  },
  {
   "cell_type": "code",
   "execution_count": 5,
   "id": "13c5f63c-3afc-4391-96f1-96518014c163",
   "metadata": {},
   "outputs": [],
   "source": [
    "# Todays generative AI is powered by transformers which has its base in deep learning and deep leanring has its base in machine leanring\n",
    "# So first machine learning \n",
    "# then deep learning \n",
    "# The generative AI "
   ]
  },
  {
   "cell_type": "code",
   "execution_count": null,
   "id": "66132329-5da1-4f81-b43c-686ed85c45e0",
   "metadata": {},
   "outputs": [],
   "source": []
  }
 ],
 "metadata": {
  "kernelspec": {
   "display_name": "Python 3 (ipykernel)",
   "language": "python",
   "name": "python3"
  },
  "language_info": {
   "codemirror_mode": {
    "name": "ipython",
    "version": 3
   },
   "file_extension": ".py",
   "mimetype": "text/x-python",
   "name": "python",
   "nbconvert_exporter": "python",
   "pygments_lexer": "ipython3",
   "version": "3.12.7"
  }
 },
 "nbformat": 4,
 "nbformat_minor": 5
}
