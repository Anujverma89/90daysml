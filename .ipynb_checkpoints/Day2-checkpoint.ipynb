{
 "cells": [
  {
   "cell_type": "markdown",
   "id": "7db5ba1c-6dc5-47c6-a3d0-c88c0ccfddfe",
   "metadata": {},
   "source": [
    "# **Maths refresher**\n",
    "\n",
    "# Linear Algebra continued \n",
    "### **System of Linear Equation**\n",
    "* Transformation is linear if it doesn't changes the origin and lines remain lines."
   ]
  },
  {
   "cell_type": "markdown",
   "id": "341a97ca-f15b-49c4-afab-af2d1cae280b",
   "metadata": {},
   "source": [
    "# Line, plane and space \n",
    "* 1 Dimention = Line\n",
    "* 2D = Plane\n",
    "* 3D = Space or hyperplane \n",
    "* **>3d = hyper plane** "
   ]
  },
  {
   "cell_type": "markdown",
   "id": "0d20bb87-3c3d-47bb-b6d5-2f3c682b064d",
   "metadata": {},
   "source": [
    "# How transformation works ? \n",
    "### Imagine a person as a vector \n",
    "* we represent his initial configuration using vector v = [2i+3j+4k]\n",
    "* Now if you want to increase the person's height width and depth or thickness we simply sclae it eg. we want to enlarge person by 2 = 2 * v = [4i+6j+8k]\n",
    "* If we want to rotate the person we apply transformation by **A*V where A is a transformation matrix and V is a vector**"
   ]
  },
  {
   "cell_type": "markdown",
   "id": "1c84edff-dc1e-4952-9ddb-798f63cfeae8",
   "metadata": {},
   "source": [
    "# **System of linear equation**\n",
    "* Collection of two or more linear equation involving same set of two or more variables.\n",
    "* 4x+2y+3z = 14\n",
    "* 9x+2y+1z = 15\n",
    "* 2x+3y = 0\n",
    "* We have to find a solution such that when the value of variable is substituted it must equate L.H.S with R.H.S\n",
    "* System of linear equation can have **Unique solution, No Solution, Multiple Solution**\n"
   ]
  },
  {
   "cell_type": "markdown",
   "id": "be5a77f4-3750-45e4-a28b-98088e1a2e9a",
   "metadata": {},
   "source": [
    "# Use of System of linear equation in machine learning : \n",
    "* Lets image we have a house dataset with 3 features, 1 label and 10 rows :\n",
    "* area in sq ft, nearest school in km, nearest hospital in km, rate per sq ft\n",
    "* After we have this we can represent the above dataset in the form of system of linear equation\n"
   ]
  },
  {
   "cell_type": "code",
   "execution_count": 1,
   "id": "33cfc87d-32ae-4cdb-a6ee-81c330d684d0",
   "metadata": {},
   "outputs": [],
   "source": [
    "# Reprsenting the house dataset as system of linear equation."
   ]
  },
  {
   "cell_type": "code",
   "execution_count": 2,
   "id": "60f4b8e9-7cab-451e-8738-899b68660244",
   "metadata": {},
   "outputs": [],
   "source": [
    "import pandas as pd"
   ]
  },
  {
   "cell_type": "code",
   "execution_count": 3,
   "id": "aee980eb-0a1f-40ce-9aa8-d567221d7dd0",
   "metadata": {},
   "outputs": [],
   "source": [
    "df = pd.read_csv(\"./housedata.csv\")"
   ]
  },
  {
   "cell_type": "code",
   "execution_count": 4,
   "id": "c7d4939d-3a6c-4888-b29e-62ec55ec0188",
   "metadata": {},
   "outputs": [
    {
     "data": {
      "text/html": [
       "<div>\n",
       "<style scoped>\n",
       "    .dataframe tbody tr th:only-of-type {\n",
       "        vertical-align: middle;\n",
       "    }\n",
       "\n",
       "    .dataframe tbody tr th {\n",
       "        vertical-align: top;\n",
       "    }\n",
       "\n",
       "    .dataframe thead th {\n",
       "        text-align: right;\n",
       "    }\n",
       "</style>\n",
       "<table border=\"1\" class=\"dataframe\">\n",
       "  <thead>\n",
       "    <tr style=\"text-align: right;\">\n",
       "      <th></th>\n",
       "      <th>area in sq.ft</th>\n",
       "      <th>distance of nearest school from home in km</th>\n",
       "      <th>distance of nearest hospital from home in km</th>\n",
       "      <th>total price of home in INR</th>\n",
       "    </tr>\n",
       "  </thead>\n",
       "  <tbody>\n",
       "    <tr>\n",
       "      <th>0</th>\n",
       "      <td>1400</td>\n",
       "      <td>10</td>\n",
       "      <td>13</td>\n",
       "      <td>1400000</td>\n",
       "    </tr>\n",
       "    <tr>\n",
       "      <th>1</th>\n",
       "      <td>1200</td>\n",
       "      <td>7</td>\n",
       "      <td>3</td>\n",
       "      <td>1600000</td>\n",
       "    </tr>\n",
       "    <tr>\n",
       "      <th>2</th>\n",
       "      <td>1000</td>\n",
       "      <td>12</td>\n",
       "      <td>14</td>\n",
       "      <td>1100000</td>\n",
       "    </tr>\n",
       "    <tr>\n",
       "      <th>3</th>\n",
       "      <td>1500</td>\n",
       "      <td>4</td>\n",
       "      <td>4</td>\n",
       "      <td>2500000</td>\n",
       "    </tr>\n",
       "    <tr>\n",
       "      <th>4</th>\n",
       "      <td>1600</td>\n",
       "      <td>2</td>\n",
       "      <td>2</td>\n",
       "      <td>3000000</td>\n",
       "    </tr>\n",
       "  </tbody>\n",
       "</table>\n",
       "</div>"
      ],
      "text/plain": [
       "   area in sq.ft   distance of nearest school from home in km  \\\n",
       "0           1400                                           10   \n",
       "1           1200                                            7   \n",
       "2           1000                                           12   \n",
       "3           1500                                            4   \n",
       "4           1600                                            2   \n",
       "\n",
       "    distance of nearest hospital from home in km   total price of home in INR  \n",
       "0                                             13                      1400000  \n",
       "1                                              3                      1600000  \n",
       "2                                             14                      1100000  \n",
       "3                                              4                      2500000  \n",
       "4                                              2                      3000000  "
      ]
     },
     "execution_count": 4,
     "metadata": {},
     "output_type": "execute_result"
    }
   ],
   "source": [
    "df.head()"
   ]
  },
  {
   "cell_type": "code",
   "execution_count": 5,
   "id": "508c951f-a24b-427b-bace-517f766ad7a5",
   "metadata": {},
   "outputs": [
    {
     "name": "stdout",
     "output_type": "stream",
     "text": [
      "1400x + 10y + 13z + b = 1400000\n",
      "1200x + 7y + 3z + b = 1600000\n",
      "1000x + 12y + 14z + b = 1100000\n",
      "1500x + 4y + 4z + b = 2500000\n",
      "1600x + 2y + 2z + b = 3000000\n",
      "500x + 1y + 1z + b = 1800000\n",
      "890x + 3y + 4z + b = 1200000\n",
      "1000x + 5y + 6z + b = 1400000\n",
      "1200x + 11y + 11z + b = 1300000\n",
      "900x + 8y + 3z + b = 1400000\n"
     ]
    }
   ],
   "source": [
    "# Now we can represent the above dataset as a system of linear equation just to visualize it\n",
    "for idx,i in df.iterrows():\n",
    "    print(f\"{i.iloc[0]}x + {i.iloc[1]}y + {i.iloc[2]}z + b = {i.iloc[3]}\")"
   ]
  },
  {
   "cell_type": "markdown",
   "id": "f157f5a2-25a9-472b-9649-02a1ab0f252b",
   "metadata": {},
   "source": [
    "# NOTE : \n",
    "* We can see that above equations represent linear regression. \n",
    "* We have represented the dataset as a system of linear equation\n",
    "* Now we can find a solution of given system of linear equation such that it satisfies all the datapoints and it's optimum when we substitute the value of x, y, z , b\n",
    "* So if we see the above system of linear equation in terms of machine learning **x,y,z are weights and b is the bias**\n",
    "* After this we can use gradient descent of OLS method to find the solution or we can even use a simple solution like in linear algebra by simply substuting the known value of bias.\n",
    "* The smooth transition of mathematics into machine learning.\n",
    "* we can find the values of x,y,z by finding the inverse of the matrix and this is how OLS works "
   ]
  },
  {
   "cell_type": "markdown",
   "id": "8e2f9c25-2041-4b74-bfea-8979af90d6c2",
   "metadata": {},
   "source": [
    "# How OLS find the solution of X,Y,Z,b or we can say weights and biases \n",
    "* **In OLS we find the solution of system of linear equation by finding the inverse of matrix**\n",
    "* But since we can have big [A]m*n it is costly to find the inverse of matrix it becomes costly.\n",
    "* So we shift to graident descent to find wegith and biases "
   ]
  }
 ],
 "metadata": {
  "kernelspec": {
   "display_name": "Python 3 (ipykernel)",
   "language": "python",
   "name": "python3"
  },
  "language_info": {
   "codemirror_mode": {
    "name": "ipython",
    "version": 3
   },
   "file_extension": ".py",
   "mimetype": "text/x-python",
   "name": "python",
   "nbconvert_exporter": "python",
   "pygments_lexer": "ipython3",
   "version": "3.12.7"
  }
 },
 "nbformat": 4,
 "nbformat_minor": 5
}
