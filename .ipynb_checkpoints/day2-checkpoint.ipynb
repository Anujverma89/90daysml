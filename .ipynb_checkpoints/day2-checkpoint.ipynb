{
 "cells": [
  {
   "cell_type": "markdown",
   "id": "7db5ba1c-6dc5-47c6-a3d0-c88c0ccfddfe",
   "metadata": {},
   "source": [
    "# **Maths refresher**\n",
    "\n",
    "# Linear Algebra continued "
   ]
  },
  {
   "cell_type": "markdown",
   "id": "d53679b4-7758-4275-8d49-fc4f7cf8ccf7",
   "metadata": {},
   "source": [
    "# Importance of linear algebra in machine learning \n",
    "* Input features in machine learning are represented as vectors\n",
    "* We apply Linear Algebra in PCA for dimentionality reduction\n",
    "* We use linear Algebra in Neural network(Feed forward Neural Network)\n",
    "* If we observer tabular data we can break each row into vector (row vector) or each column into vector (Column vector) and entire table can be considered as a matrix."
   ]
  },
  {
   "cell_type": "code",
   "execution_count": null,
   "id": "e8fa1281-45a0-40eb-bb9f-89c257cfd22e",
   "metadata": {},
   "outputs": [],
   "source": []
  }
 ],
 "metadata": {
  "kernelspec": {
   "display_name": "Python 3 (ipykernel)",
   "language": "python",
   "name": "python3"
  },
  "language_info": {
   "codemirror_mode": {
    "name": "ipython",
    "version": 3
   },
   "file_extension": ".py",
   "mimetype": "text/x-python",
   "name": "python",
   "nbconvert_exporter": "python",
   "pygments_lexer": "ipython3",
   "version": "3.12.7"
  }
 },
 "nbformat": 4,
 "nbformat_minor": 5
}
