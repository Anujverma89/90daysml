{
 "cells": [
  {
   "cell_type": "markdown",
   "id": "f24ddbe0-487b-4260-a0a9-f7e4c9625eab",
   "metadata": {},
   "source": [
    "# Maths Refresher \n",
    "### **Probability**\n"
   ]
  },
  {
   "cell_type": "markdown",
   "id": "d51ba4b9-1c83-469c-895e-4c298fb9c11f",
   "metadata": {},
   "source": [
    "### Probability deals with uncertainity.\n",
    "* Quantification of uncertainity.\n",
    "* We cannot apply probability where things are certain like if person was born definitely he will die, so here we cannot have a case that if person was born what are the possibilites that he will die."
   ]
  },
  {
   "cell_type": "markdown",
   "id": "c5375891-c0f5-4e5a-bba9-a2934469e465",
   "metadata": {},
   "source": [
    "# Terms associated with probability : \n",
    "* Random variable : A Function that maps the input(values from a sample space) to output(a numerical value or a vector).\n",
    "* Sample space : All the possible outcome of a random experiment.\n",
    "* Random Experiment : A random experiment is a process or activity that produces unpredictable come.\n",
    "* Experiment : A process that produces a predictable outcome.\n",
    "* Event : Any subset of a sample space which we are intrested in. "
   ]
  },
  {
   "cell_type": "markdown",
   "id": "86aa37cf-33fc-48e6-b1de-13698be99158",
   "metadata": {},
   "source": [
    "### Probablity is bascially a way to quantify uncertainity.\n",
    "### It helps us to find the lieklihood of occurance of some event\n",
    "### In machine learning we discuess two interpretation : \n",
    "* **A bayesian interpretation** : We have a prior belive about something.\n",
    "* **A frequentist interpretation**  : We conclude the observation on basis of frequency of occurance of event.\n"
   ]
  },
  {
   "cell_type": "markdown",
   "id": "9ba574c6-7df2-4d14-956f-15d9bc40e041",
   "metadata": {},
   "source": [
    "### Probability of any event always lies between [ 0 - 1 ]\n",
    "### Probability of a sample space is always 1 "
   ]
  }
 ],
 "metadata": {
  "kernelspec": {
   "display_name": "Python 3 (ipykernel)",
   "language": "python",
   "name": "python3"
  },
  "language_info": {
   "codemirror_mode": {
    "name": "ipython",
    "version": 3
   },
   "file_extension": ".py",
   "mimetype": "text/x-python",
   "name": "python",
   "nbconvert_exporter": "python",
   "pygments_lexer": "ipython3",
   "version": "3.12.7"
  }
 },
 "nbformat": 4,
 "nbformat_minor": 5
}
