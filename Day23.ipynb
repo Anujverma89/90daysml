{
 "cells": [
  {
   "cell_type": "code",
   "execution_count": 1,
   "id": "16199b71-b330-4394-8545-730f4e28f03e",
   "metadata": {},
   "outputs": [],
   "source": [
    "# Day 23 project using algorithms once again"
   ]
  },
  {
   "cell_type": "code",
   "execution_count": 4,
   "id": "deee4a49-2330-42c1-a5bc-476ae73947b1",
   "metadata": {},
   "outputs": [],
   "source": [
    "import streamlit as st\n",
    "import pandas as pd"
   ]
  },
  {
   "cell_type": "code",
   "execution_count": 5,
   "id": "c6fed58f-150f-4483-a9f9-053d6e6e93fe",
   "metadata": {},
   "outputs": [
    {
     "name": "stderr",
     "output_type": "stream",
     "text": [
      "2025-05-02 16:49:26.749 Thread 'MainThread': missing ScriptRunContext! This warning can be ignored when running in bare mode.\n",
      "2025-05-02 16:49:26.749 Thread 'MainThread': missing ScriptRunContext! This warning can be ignored when running in bare mode.\n"
     ]
    }
   ],
   "source": [
    "st.write(\"This is new\")"
   ]
  },
  {
   "cell_type": "code",
   "execution_count": null,
   "id": "66fc5763-3c49-48ed-b47b-1b1008ec19a3",
   "metadata": {},
   "outputs": [],
   "source": []
  }
 ],
 "metadata": {
  "kernelspec": {
   "display_name": "Python 3 (ipykernel)",
   "language": "python",
   "name": "python3"
  },
  "language_info": {
   "codemirror_mode": {
    "name": "ipython",
    "version": 3
   },
   "file_extension": ".py",
   "mimetype": "text/x-python",
   "name": "python",
   "nbconvert_exporter": "python",
   "pygments_lexer": "ipython3",
   "version": "3.12.7"
  }
 },
 "nbformat": 4,
 "nbformat_minor": 5
}
