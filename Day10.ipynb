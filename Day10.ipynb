{
 "cells": [
  {
   "cell_type": "markdown",
   "id": "2810690f-49ec-4de2-85c2-2ad7630ae1fc",
   "metadata": {},
   "source": [
    "# How probability is associated with machine learning \n",
    "### *Probability Continued*\n",
    "* In naive bayes classifier\n",
    "* predicting the next word in NLP "
   ]
  },
  {
   "cell_type": "markdown",
   "id": "d2894fdd-c8d2-4ac6-8b9d-4e48c8f962b0",
   "metadata": {},
   "source": [
    "# Probablity and statistics : \n",
    "* **Probability** : Using probability, we can consider a model of some process, where the underlying uncertainty is captured by random variables, and we use the rules of probability to derive what happens\n",
    "* **Statistics** : In statistics we try find out the reason behind something that has happend in that sense machine learning is more near to statistics."
   ]
  },
  {
   "cell_type": "markdown",
   "id": "bbe456cd-1abf-4d8b-b7a4-3c9276a369ba",
   "metadata": {},
   "source": [
    "# Originating probablity (Where does probability comes from) \n",
    "* Emperical(Experimental) Probability.\n",
    "  * We have a data and we do experiments with it.\n",
    "  * Example we toss a coin for 100 times and then 30 times we get head so the probability of head is 30% and tail is 70%.\n",
    "* Theoritical :\n",
    "  * We just assume that is exists(We imagine)\n",
    "  * No proof for the same is present.\n",
    "  * It relies on mathematical reasoning and assumptions about the underlying system. Essentially, you're calculating the likelihood of an event based on what you know about the system, rather than observing it directly."
   ]
  },
  {
   "cell_type": "markdown",
   "id": "a7214bcb-e93b-4810-8195-3eab084d4276",
   "metadata": {},
   "source": [
    "# PDF \n",
    "* Probablity distribution function (PDF) is a mapping of sample space with it's probability.\n",
    "\n"
   ]
  },
  {
   "cell_type": "markdown",
   "id": "c2c85faf-fa9a-41c0-b822-301704a0ff60",
   "metadata": {},
   "source": [
    "# Random Variable : \n",
    "* A function that maps sample space with numerical value.\n",
    "* Takes input from sample space.\n",
    "* Gives a numerical output which is called target space.\n",
    "* Now we find a probability of a target space.\n",
    "* **Target Space** : A numerical output of a random variable.\n",
    "\n"
   ]
  },
  {
   "cell_type": "markdown",
   "id": "67d264fb-1fa3-4911-9ac3-175271e23521",
   "metadata": {},
   "source": [
    "# Descrete and continious probabilites : \n",
    "* **Descrete Probabilites**\n",
    "  * Probability which comes from a conuntable set is descrete probability.\n",
    "  * Even fractions like 1/6 while rolling a die becuase there are countable sets of values while rolling a die.\n",
    "* **Continious Probability**\n",
    "  * When the probability comes from unconuntable infinite set it is called continious probability.\n",
    "  * Like any real no between 0 to 1.\n",
    "  * Example like talking about the height of a person can take any range between 100cm to 180cm "
   ]
  },
  {
   "cell_type": "markdown",
   "id": "e8fc21a8-bc42-4042-ac08-bcf41831dfe6",
   "metadata": {},
   "source": [
    "### Descrete Random variable & Continious Random variable : \n",
    "* When the random variable gives descrete value it's Descrete Random Variable.\n",
    "  * The output that descrete random varible gives is descrete.\n",
    "  * This used PMF to generate probabiblity which is descrete\n",
    "* WHen the random variable gives continious value it's Continious Random Variable.\n",
    "  * The output that continious random variable gives is continious.\n",
    "  * This used PDF to generate probability which is continious."
   ]
  },
  {
   "cell_type": "markdown",
   "id": "a539f4dd-46a7-4297-a4c3-2515e243fd2b",
   "metadata": {},
   "source": [
    "# Probability Distribution : \n",
    "* A list of all the possible outcomes of a random variable along with their probability.\n",
    "* example :\n",
    "* | outcomes   |  H  |  T  |\n",
    "* | probabilty | 1/2 | 1/2 |"
   ]
  },
  {
   "cell_type": "markdown",
   "id": "722ef951-864b-493a-8951-b4673e644072",
   "metadata": {},
   "source": [
    "Random variable -> maps -> numerical value (Target space) \n",
    "Probability Distribution function -> Maps -> Probability of each element in a target space \n",
    "* **sample space -> (R.V) -> Numerical Value (Target Space) -> ( PDF )-> probabilty of element -> Probabilty Distribution**\n",
    "* **PMF**: When the random variables takes the descrete value it's called PDF, rolling a dice, tossing a coin etc \n",
    "* **PDF** : When random variables takes continious values it's called PMF, like temperature, height, etc\n",
    "* Remembe when we talk about descrete and continious we talk about the target space "
   ]
  },
  {
   "cell_type": "markdown",
   "id": "9fd95e5a-6a08-4fbf-b431-15f1539de095",
   "metadata": {},
   "source": [
    "# PMF & PDF \n",
    "* **PMF** : Maps the descrete target space to descrete probabilites. results into descrete probability distribution \n",
    "* **PDF** : Maps the Continious target space to continious probabilites. results into conitnious probability distribution"
   ]
  },
  {
   "cell_type": "markdown",
   "id": "adf01bf0-ef6a-4d23-9810-ad5a86431e91",
   "metadata": {},
   "source": [
    "# In machine learning we don't deal with normal probabilites like finding a probablity of an event from sample space \n",
    "* instead we work with random variable, probablity distribution functions"
   ]
  },
  {
   "cell_type": "markdown",
   "id": "5ce475d6-654d-4854-9807-5ede5894a183",
   "metadata": {},
   "source": [
    "# **Cartesian product**\n",
    "* Pairing of every element in X with every other element in Y.\n",
    "* Target space for joint probablity is a cartesian product of two random variables. "
   ]
  },
  {
   "cell_type": "markdown",
   "id": "d962a36e-f8ad-4062-b709-7f86dd506df3",
   "metadata": {},
   "source": [
    "# Types of distribution \n",
    "* **Gaussian Distribution**"
   ]
  },
  {
   "cell_type": "code",
   "execution_count": null,
   "id": "d86562d8-16e2-41e3-9d01-0f20cc5ba15d",
   "metadata": {},
   "outputs": [],
   "source": []
  }
 ],
 "metadata": {
  "kernelspec": {
   "display_name": "Python 3 (ipykernel)",
   "language": "python",
   "name": "python3"
  },
  "language_info": {
   "codemirror_mode": {
    "name": "ipython",
    "version": 3
   },
   "file_extension": ".py",
   "mimetype": "text/x-python",
   "name": "python",
   "nbconvert_exporter": "python",
   "pygments_lexer": "ipython3",
   "version": "3.12.7"
  }
 },
 "nbformat": 4,
 "nbformat_minor": 5
}
