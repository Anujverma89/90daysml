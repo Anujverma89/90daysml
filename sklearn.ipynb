{
 "cells": [
  {
   "cell_type": "code",
   "execution_count": 19,
   "id": "50c12119-ee9b-4d92-b921-81e01d7e276b",
   "metadata": {},
   "outputs": [],
   "source": [
    "import sklearn"
   ]
  },
  {
   "cell_type": "code",
   "execution_count": 29,
   "id": "52a06369-0d37-4acc-ac36-69a2b9cd37e0",
   "metadata": {},
   "outputs": [
    {
     "name": "stdout",
     "output_type": "stream",
     "text": [
      "Before: {'assume_finite': False, 'working_memory': 1024, 'print_changed_only': True, 'display': 'diagram', 'pairwise_dist_chunk_size': 256, 'enable_cython_pairwise_dist': True, 'array_api_dispatch': False, 'transform_output': 'default', 'enable_metadata_routing': False, 'skip_parameter_validation': False}\n",
      "Inside context: {'assume_finite': True, 'working_memory': 1024, 'print_changed_only': True, 'display': 'diagram', 'pairwise_dist_chunk_size': 256, 'enable_cython_pairwise_dist': True, 'array_api_dispatch': False, 'transform_output': 'default', 'enable_metadata_routing': False, 'skip_parameter_validation': False}\n",
      "After: {'assume_finite': False, 'working_memory': 1024, 'print_changed_only': True, 'display': 'diagram', 'pairwise_dist_chunk_size': 256, 'enable_cython_pairwise_dist': True, 'array_api_dispatch': False, 'transform_output': 'default', 'enable_metadata_routing': False, 'skip_parameter_validation': False}\n"
     ]
    }
   ],
   "source": [
    "print(\"Before:\", sklearn.get_config())\n",
    "\n",
    "# config context only works for block \n",
    "with sklearn.config_context(assume_finite=True):\n",
    "    print(\"Inside context:\", sklearn.get_config())\n",
    "\n",
    "print(\"After:\", sklearn.get_config())"
   ]
  },
  {
   "cell_type": "code",
   "execution_count": 30,
   "id": "f725b734-066b-4120-b915-2e2d77d47213",
   "metadata": {},
   "outputs": [
    {
     "name": "stdout",
     "output_type": "stream",
     "text": [
      "\n",
      "System:\n",
      "    python: 3.12.7 | packaged by Anaconda, Inc. | (main, Oct  4 2024, 13:27:36) [GCC 11.2.0]\n",
      "executable: /home/anuj/miniconda3/bin/python\n",
      "   machine: Linux-6.11.0-25-generic-x86_64-with-glibc2.39\n",
      "\n",
      "Python dependencies:\n",
      "      sklearn: 1.6.1\n",
      "          pip: 24.2\n",
      "   setuptools: 75.1.0\n",
      "        numpy: 1.26.4\n",
      "        scipy: 1.15.2\n",
      "       Cython: None\n",
      "       pandas: 2.2.3\n",
      "   matplotlib: 3.9.2\n",
      "       joblib: 1.4.2\n",
      "threadpoolctl: 3.6.0\n",
      "\n",
      "Built with OpenMP: True\n",
      "\n",
      "threadpoolctl info:\n",
      "       user_api: blas\n",
      "   internal_api: openblas\n",
      "    num_threads: 16\n",
      "         prefix: libopenblas\n",
      "       filepath: /home/anuj/miniconda3/lib/python3.12/site-packages/numpy.libs/libopenblas64_p-r0-0cf96a72.3.23.dev.so\n",
      "        version: 0.3.23.dev\n",
      "threading_layer: pthreads\n",
      "   architecture: Zen\n",
      "\n",
      "       user_api: blas\n",
      "   internal_api: openblas\n",
      "    num_threads: 16\n",
      "         prefix: libscipy_openblas\n",
      "       filepath: /home/anuj/miniconda3/lib/python3.12/site-packages/scipy.libs/libscipy_openblas-68440149.so\n",
      "        version: 0.3.28\n",
      "threading_layer: pthreads\n",
      "   architecture: Haswell\n",
      "\n",
      "       user_api: openmp\n",
      "   internal_api: openmp\n",
      "    num_threads: 16\n",
      "         prefix: libgomp\n",
      "       filepath: /home/anuj/miniconda3/lib/python3.12/site-packages/scikit_learn.libs/libgomp-a34b3233.so.1.0.0\n",
      "        version: None\n"
     ]
    }
   ],
   "source": [
    "sklearn.show_versions()"
   ]
  },
  {
   "cell_type": "code",
   "execution_count": 31,
   "id": "b6dfe9de-0a29-458b-aee4-7947f6b1c983",
   "metadata": {},
   "outputs": [],
   "source": [
    "# Set config makes change in the parameter permanenlty \n",
    "sklearn.set_config(assume_finite=True)"
   ]
  },
  {
   "cell_type": "code",
   "execution_count": 32,
   "id": "545c1b6d-3173-4efb-8ffd-3c55775fe54d",
   "metadata": {},
   "outputs": [
    {
     "data": {
      "text/plain": [
       "{'assume_finite': True,\n",
       " 'working_memory': 1024,\n",
       " 'print_changed_only': True,\n",
       " 'display': 'diagram',\n",
       " 'pairwise_dist_chunk_size': 256,\n",
       " 'enable_cython_pairwise_dist': True,\n",
       " 'array_api_dispatch': False,\n",
       " 'transform_output': 'default',\n",
       " 'enable_metadata_routing': False,\n",
       " 'skip_parameter_validation': False}"
      ]
     },
     "execution_count": 32,
     "metadata": {},
     "output_type": "execute_result"
    }
   ],
   "source": [
    "sklearn.get_config()"
   ]
  },
  {
   "cell_type": "code",
   "execution_count": 33,
   "id": "87de2da5-85fd-4af9-ac67-df29c1c739e1",
   "metadata": {},
   "outputs": [],
   "source": [
    "sklearn.set_config(assume_finite=False)"
   ]
  },
  {
   "cell_type": "code",
   "execution_count": 34,
   "id": "72fc69f2-5f8b-4d35-8f65-8189c2afce01",
   "metadata": {},
   "outputs": [
    {
     "data": {
      "text/plain": [
       "{'assume_finite': False,\n",
       " 'working_memory': 1024,\n",
       " 'print_changed_only': True,\n",
       " 'display': 'diagram',\n",
       " 'pairwise_dist_chunk_size': 256,\n",
       " 'enable_cython_pairwise_dist': True,\n",
       " 'array_api_dispatch': False,\n",
       " 'transform_output': 'default',\n",
       " 'enable_metadata_routing': False,\n",
       " 'skip_parameter_validation': False}"
      ]
     },
     "execution_count": 34,
     "metadata": {},
     "output_type": "execute_result"
    }
   ],
   "source": [
    "sklearn.get_config()"
   ]
  },
  {
   "cell_type": "code",
   "execution_count": 35,
   "id": "12b33765-e1f0-4425-9a6e-e4dd83e5aace",
   "metadata": {},
   "outputs": [],
   "source": [
    "# with keywrod in python \n",
    "# with keyword is used dynamically release the resource when the task is completed"
   ]
  },
  {
   "cell_type": "code",
   "execution_count": 36,
   "id": "24ae07dc-8a4c-470f-bf0c-9b147360e915",
   "metadata": {},
   "outputs": [],
   "source": [
    "class newobc: \n",
    "    def __init__():\n",
    "        print(\"Made\")\n",
    "    def call():\n",
    "        print(5)"
   ]
  },
  {
   "cell_type": "code",
   "execution_count": 42,
   "id": "691d66a1-84d7-4ee5-813e-40b994c4ffcc",
   "metadata": {},
   "outputs": [
    {
     "ename": "TypeError",
     "evalue": "newobc.__init__() takes 0 positional arguments but 1 was given",
     "output_type": "error",
     "traceback": [
      "\u001b[0;31m---------------------------------------------------------------------------\u001b[0m",
      "\u001b[0;31mTypeError\u001b[0m                                 Traceback (most recent call last)",
      "Cell \u001b[0;32mIn[42], line 1\u001b[0m\n\u001b[0;32m----> 1\u001b[0m \u001b[38;5;28;01mwith\u001b[39;00m newobc():\n\u001b[1;32m      2\u001b[0m     n\u001b[38;5;241m.\u001b[39mcall()\n",
      "\u001b[0;31mTypeError\u001b[0m: newobc.__init__() takes 0 positional arguments but 1 was given"
     ]
    }
   ],
   "source": [
    "with newobc():\n",
    "    n.call()"
   ]
  },
  {
   "cell_type": "code",
   "execution_count": null,
   "id": "5b296895-a981-49b9-88f0-aa95df45ebdf",
   "metadata": {},
   "outputs": [],
   "source": []
  }
 ],
 "metadata": {
  "kernelspec": {
   "display_name": "Python 3 (ipykernel)",
   "language": "python",
   "name": "python3"
  },
  "language_info": {
   "codemirror_mode": {
    "name": "ipython",
    "version": 3
   },
   "file_extension": ".py",
   "mimetype": "text/x-python",
   "name": "python",
   "nbconvert_exporter": "python",
   "pygments_lexer": "ipython3",
   "version": "3.12.7"
  }
 },
 "nbformat": 4,
 "nbformat_minor": 5
}
