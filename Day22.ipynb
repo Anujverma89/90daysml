{
 "cells": [
  {
   "cell_type": "code",
   "execution_count": 3,
   "id": "b30cbd35-49fa-4cff-a566-99f6a4851da5",
   "metadata": {},
   "outputs": [],
   "source": [
    "# On day 22 I stuided about Reinforcement learning So didn't updated anything over here.\n",
    "# But if there's need i'll definitely do it."
   ]
  },
  {
   "cell_type": "code",
   "execution_count": 4,
   "id": "5e00b742-0f05-47ae-88b8-f52f0d51804e",
   "metadata": {},
   "outputs": [],
   "source": [
    "# I'll write reinforcement learning code here don't worry "
   ]
  },
  {
   "cell_type": "code",
   "execution_count": null,
   "id": "0a623ab5-e716-40c8-9e74-f687ca5bf7a1",
   "metadata": {},
   "outputs": [],
   "source": []
  }
 ],
 "metadata": {
  "kernelspec": {
   "display_name": "Python 3 (ipykernel)",
   "language": "python",
   "name": "python3"
  },
  "language_info": {
   "codemirror_mode": {
    "name": "ipython",
    "version": 3
   },
   "file_extension": ".py",
   "mimetype": "text/x-python",
   "name": "python",
   "nbconvert_exporter": "python",
   "pygments_lexer": "ipython3",
   "version": "3.12.7"
  }
 },
 "nbformat": 4,
 "nbformat_minor": 5
}
