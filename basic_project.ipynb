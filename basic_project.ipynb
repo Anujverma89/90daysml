{
 "cells": [
  {
   "cell_type": "markdown",
   "id": "abb46c3f-5765-4bad-9b5f-e47057021b89",
   "metadata": {},
   "source": [
    "# in this project we will explore a basic machine learning project\n",
    "\n",
    "### Machine learning is both shallow and depth depending upon what you are learning,\n",
    "### If you are learning just implimentation it's very shallow and \n",
    "### If you are going in depth of how different algorithm works it's in depth.(Maths)\n",
    "\n",
    "https://www.cs.cmu.edu/~tom/mlbook.html"
   ]
  },
  {
   "cell_type": "code",
   "execution_count": 30,
   "id": "24f72a85-003d-4d07-9457-67c3c3393231",
   "metadata": {},
   "outputs": [],
   "source": [
    "import pandas as pd \n",
    "import numpy as np "
   ]
  },
  {
   "cell_type": "markdown",
   "id": "38032bcb-c3d3-4a5c-8e51-96d17e3883c2",
   "metadata": {},
   "source": [
    "# Pipe line \n",
    "1) Load data\n",
    "2) Preprocess data (remove outlier , handle missing values, scale data)\n",
    "3) Feed into model (Use any model you like and feed them) \n",
    "4) Evaluate the model (Use matrics to evalute model)\n",
    "5) again Refine and Retune the model"
   ]
  },
  {
   "cell_type": "markdown",
   "id": "a6fab088-9184-4181-9747-0d4fbae73f5a",
   "metadata": {},
   "source": [
    "# Step 1 : Load data"
   ]
  },
  {
   "cell_type": "code",
   "execution_count": 10,
   "id": "9346522d-b7cc-442f-ae2e-582310a4b2cc",
   "metadata": {},
   "outputs": [],
   "source": [
    "# Step 1 : Load data\n",
    "df = pd.read_csv(\"IRIS.csv\") "
   ]
  },
  {
   "cell_type": "markdown",
   "id": "4994dfa8-9b62-4944-990b-d20db85198a7",
   "metadata": {},
   "source": [
    "# Step 2:  Visualizing & Preprocessing Dataset "
   ]
  },
  {
   "cell_type": "code",
   "execution_count": 24,
   "id": "f1b17d8c-ff6b-4753-a683-af12174ca3b1",
   "metadata": {},
   "outputs": [
    {
     "data": {
      "text/html": [
       "<div>\n",
       "<style scoped>\n",
       "    .dataframe tbody tr th:only-of-type {\n",
       "        vertical-align: middle;\n",
       "    }\n",
       "\n",
       "    .dataframe tbody tr th {\n",
       "        vertical-align: top;\n",
       "    }\n",
       "\n",
       "    .dataframe thead th {\n",
       "        text-align: right;\n",
       "    }\n",
       "</style>\n",
       "<table border=\"1\" class=\"dataframe\">\n",
       "  <thead>\n",
       "    <tr style=\"text-align: right;\">\n",
       "      <th></th>\n",
       "      <th>sepal_length</th>\n",
       "      <th>sepal_width</th>\n",
       "      <th>petal_length</th>\n",
       "      <th>petal_width</th>\n",
       "      <th>species</th>\n",
       "    </tr>\n",
       "  </thead>\n",
       "  <tbody>\n",
       "    <tr>\n",
       "      <th>0</th>\n",
       "      <td>5.1</td>\n",
       "      <td>3.5</td>\n",
       "      <td>1.4</td>\n",
       "      <td>0.2</td>\n",
       "      <td>Iris-setosa</td>\n",
       "    </tr>\n",
       "    <tr>\n",
       "      <th>1</th>\n",
       "      <td>4.9</td>\n",
       "      <td>3.0</td>\n",
       "      <td>1.4</td>\n",
       "      <td>0.2</td>\n",
       "      <td>Iris-setosa</td>\n",
       "    </tr>\n",
       "    <tr>\n",
       "      <th>2</th>\n",
       "      <td>4.7</td>\n",
       "      <td>3.2</td>\n",
       "      <td>1.3</td>\n",
       "      <td>0.2</td>\n",
       "      <td>Iris-setosa</td>\n",
       "    </tr>\n",
       "    <tr>\n",
       "      <th>3</th>\n",
       "      <td>4.6</td>\n",
       "      <td>3.1</td>\n",
       "      <td>1.5</td>\n",
       "      <td>0.2</td>\n",
       "      <td>Iris-setosa</td>\n",
       "    </tr>\n",
       "    <tr>\n",
       "      <th>4</th>\n",
       "      <td>5.0</td>\n",
       "      <td>3.6</td>\n",
       "      <td>1.4</td>\n",
       "      <td>0.2</td>\n",
       "      <td>Iris-setosa</td>\n",
       "    </tr>\n",
       "  </tbody>\n",
       "</table>\n",
       "</div>"
      ],
      "text/plain": [
       "   sepal_length  sepal_width  petal_length  petal_width      species\n",
       "0           5.1          3.5           1.4          0.2  Iris-setosa\n",
       "1           4.9          3.0           1.4          0.2  Iris-setosa\n",
       "2           4.7          3.2           1.3          0.2  Iris-setosa\n",
       "3           4.6          3.1           1.5          0.2  Iris-setosa\n",
       "4           5.0          3.6           1.4          0.2  Iris-setosa"
      ]
     },
     "execution_count": 24,
     "metadata": {},
     "output_type": "execute_result"
    }
   ],
   "source": [
    "#visualising data set\n",
    "df.head()"
   ]
  },
  {
   "cell_type": "code",
   "execution_count": 25,
   "id": "252dc0f6-7159-4dd0-895b-9e2d456f2150",
   "metadata": {},
   "outputs": [
    {
     "data": {
      "text/html": [
       "<div>\n",
       "<style scoped>\n",
       "    .dataframe tbody tr th:only-of-type {\n",
       "        vertical-align: middle;\n",
       "    }\n",
       "\n",
       "    .dataframe tbody tr th {\n",
       "        vertical-align: top;\n",
       "    }\n",
       "\n",
       "    .dataframe thead th {\n",
       "        text-align: right;\n",
       "    }\n",
       "</style>\n",
       "<table border=\"1\" class=\"dataframe\">\n",
       "  <thead>\n",
       "    <tr style=\"text-align: right;\">\n",
       "      <th></th>\n",
       "      <th>sepal_length</th>\n",
       "      <th>sepal_width</th>\n",
       "      <th>petal_length</th>\n",
       "      <th>petal_width</th>\n",
       "    </tr>\n",
       "  </thead>\n",
       "  <tbody>\n",
       "    <tr>\n",
       "      <th>count</th>\n",
       "      <td>150.000000</td>\n",
       "      <td>150.000000</td>\n",
       "      <td>150.000000</td>\n",
       "      <td>150.000000</td>\n",
       "    </tr>\n",
       "    <tr>\n",
       "      <th>mean</th>\n",
       "      <td>5.843333</td>\n",
       "      <td>3.054000</td>\n",
       "      <td>3.758667</td>\n",
       "      <td>1.198667</td>\n",
       "    </tr>\n",
       "    <tr>\n",
       "      <th>std</th>\n",
       "      <td>0.828066</td>\n",
       "      <td>0.433594</td>\n",
       "      <td>1.764420</td>\n",
       "      <td>0.763161</td>\n",
       "    </tr>\n",
       "    <tr>\n",
       "      <th>min</th>\n",
       "      <td>4.300000</td>\n",
       "      <td>2.000000</td>\n",
       "      <td>1.000000</td>\n",
       "      <td>0.100000</td>\n",
       "    </tr>\n",
       "    <tr>\n",
       "      <th>25%</th>\n",
       "      <td>5.100000</td>\n",
       "      <td>2.800000</td>\n",
       "      <td>1.600000</td>\n",
       "      <td>0.300000</td>\n",
       "    </tr>\n",
       "    <tr>\n",
       "      <th>50%</th>\n",
       "      <td>5.800000</td>\n",
       "      <td>3.000000</td>\n",
       "      <td>4.350000</td>\n",
       "      <td>1.300000</td>\n",
       "    </tr>\n",
       "    <tr>\n",
       "      <th>75%</th>\n",
       "      <td>6.400000</td>\n",
       "      <td>3.300000</td>\n",
       "      <td>5.100000</td>\n",
       "      <td>1.800000</td>\n",
       "    </tr>\n",
       "    <tr>\n",
       "      <th>max</th>\n",
       "      <td>7.900000</td>\n",
       "      <td>4.400000</td>\n",
       "      <td>6.900000</td>\n",
       "      <td>2.500000</td>\n",
       "    </tr>\n",
       "  </tbody>\n",
       "</table>\n",
       "</div>"
      ],
      "text/plain": [
       "       sepal_length  sepal_width  petal_length  petal_width\n",
       "count    150.000000   150.000000    150.000000   150.000000\n",
       "mean       5.843333     3.054000      3.758667     1.198667\n",
       "std        0.828066     0.433594      1.764420     0.763161\n",
       "min        4.300000     2.000000      1.000000     0.100000\n",
       "25%        5.100000     2.800000      1.600000     0.300000\n",
       "50%        5.800000     3.000000      4.350000     1.300000\n",
       "75%        6.400000     3.300000      5.100000     1.800000\n",
       "max        7.900000     4.400000      6.900000     2.500000"
      ]
     },
     "execution_count": 25,
     "metadata": {},
     "output_type": "execute_result"
    }
   ],
   "source": [
    "df.describe()"
   ]
  },
  {
   "cell_type": "code",
   "execution_count": 26,
   "id": "e840894a-cea5-4974-a323-4d9bd050a538",
   "metadata": {},
   "outputs": [
    {
     "data": {
      "text/plain": [
       "0"
      ]
     },
     "execution_count": 26,
     "metadata": {},
     "output_type": "execute_result"
    }
   ],
   "source": [
    "# this gives the total sum of total null values in sepal_length column\n",
    "df['sepal_length'].isna().sum()"
   ]
  },
  {
   "cell_type": "code",
   "execution_count": 27,
   "id": "2e385d24-3cdc-4c5c-bd12-9cc1602ab730",
   "metadata": {},
   "outputs": [
    {
     "data": {
      "text/plain": [
       "150"
      ]
     },
     "execution_count": 27,
     "metadata": {},
     "output_type": "execute_result"
    }
   ],
   "source": [
    "df['sepal_length'].count()"
   ]
  },
  {
   "cell_type": "markdown",
   "id": "55c01eba-16f7-4ece-83cc-08ab78de8347",
   "metadata": {},
   "source": [
    "# Step 3: Scaling \n",
    "* Normalization (min-max scaling)\n",
    "* x - x_min / ( x_max - x_min )\n",
    "* Standardization (Z-score normalization)\n",
    "* (x - x_mean / standarddeviation )\n",
    "* mean = 0 , standard deviation = 1 for scaled data"
   ]
  },
  {
   "cell_type": "markdown",
   "id": "42b4783e-4aa3-4602-a461-c7543824bc35",
   "metadata": {},
   "source": [
    "# Step 5 : Algorithm evaluation methods : \n",
    "* Resampling : sampling data on which model will be trained and on which model will be tested.\n",
    "  * Cross validation\n",
    "    * Leave One Out Cross-Validation\n",
    "    * Stratification.\n",
    "  * Bootstrapping\n",
    "  * Train test split.\n",
    "\n",
    "# Step 6 : Model evaluation matrics : \n",
    "* **Measuring Residual error**\n",
    "  * MAE\n",
    "  * RMSE\n",
    "* **Measuring classification error**\n",
    "  * Confusion matrix\n",
    "  * Accuray, precision, recall , f1 score."
   ]
  },
  {
   "cell_type": "code",
   "execution_count": null,
   "id": "1332bfdd-7d9f-4815-9853-d67172fc80b5",
   "metadata": {},
   "outputs": [],
   "source": []
  }
 ],
 "metadata": {
  "kernelspec": {
   "display_name": "Python 3 (ipykernel)",
   "language": "python",
   "name": "python3"
  },
  "language_info": {
   "codemirror_mode": {
    "name": "ipython",
    "version": 3
   },
   "file_extension": ".py",
   "mimetype": "text/x-python",
   "name": "python",
   "nbconvert_exporter": "python",
   "pygments_lexer": "ipython3",
   "version": "3.12.7"
  }
 },
 "nbformat": 4,
 "nbformat_minor": 5
}
