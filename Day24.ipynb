{
 "cells": [
  {
   "cell_type": "code",
   "execution_count": null,
   "id": "5b445eb8",
   "metadata": {
    "vscode": {
     "languageId": "plaintext"
    }
   },
   "outputs": [],
   "source": [
    "# Just stuied reinforcement learning for my exam "
   ]
  }
 ],
 "metadata": {
  "language_info": {
   "name": "python"
  }
 },
 "nbformat": 4,
 "nbformat_minor": 5
}
