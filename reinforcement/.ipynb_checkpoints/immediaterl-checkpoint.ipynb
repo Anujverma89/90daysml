{
 "cells": [
  {
   "cell_type": "code",
   "execution_count": 1,
   "id": "65d9c3bd-5492-450e-ae90-de9f90638da7",
   "metadata": {},
   "outputs": [],
   "source": [
    "# Reward is achieved immediately "
   ]
  },
  {
   "cell_type": "code",
   "execution_count": 8,
   "id": "97b87691-3692-4cca-9a89-2d86da38c8d3",
   "metadata": {},
   "outputs": [],
   "source": [
    "def reward(rewardv):\n",
    "    if(correct):\n",
    "        rewardv+=1;\n",
    "    if(wrong):\n",
    "        rewardv-=1;"
   ]
  },
  {
   "cell_type": "code",
   "execution_count": 13,
   "id": "d93a3a29-8ad7-4575-a67e-a32093f2be66",
   "metadata": {},
   "outputs": [],
   "source": [
    "correct = True\n",
    "wrong = True\n",
    "rewardv = 0 \n",
    "reward(rewardv)"
   ]
  },
  {
   "cell_type": "code",
   "execution_count": 14,
   "id": "251da033-1fa4-4d6e-ba81-60d600a5427e",
   "metadata": {},
   "outputs": [],
   "source": [
    "reward(rewardv)"
   ]
  },
  {
   "cell_type": "code",
   "execution_count": 15,
   "id": "61a2aa72-fac5-449f-a224-48cfee090178",
   "metadata": {},
   "outputs": [
    {
     "data": {
      "text/plain": [
       "0"
      ]
     },
     "execution_count": 15,
     "metadata": {},
     "output_type": "execute_result"
    }
   ],
   "source": [
    "rewardv"
   ]
  }
 ],
 "metadata": {
  "kernelspec": {
   "display_name": "Python 3 (ipykernel)",
   "language": "python",
   "name": "python3"
  },
  "language_info": {
   "codemirror_mode": {
    "name": "ipython",
    "version": 3
   },
   "file_extension": ".py",
   "mimetype": "text/x-python",
   "name": "python",
   "nbconvert_exporter": "python",
   "pygments_lexer": "ipython3",
   "version": "3.12.7"
  }
 },
 "nbformat": 4,
 "nbformat_minor": 5
}
