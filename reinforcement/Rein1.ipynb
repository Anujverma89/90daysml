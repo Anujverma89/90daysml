{
 "cells": [
  {
   "cell_type": "raw",
   "id": "b0a761e0-b094-4a21-9638-bba2acb70722",
   "metadata": {},
   "source": [
    "# Reinforcement learning is about learning from trail and error by interacting with system.\n",
    "# Reward and penality \n",
    "# Learning from rewards and punishement in absense of detailed supervision \n",
    "\n",
    "# Terminalogies : \n",
    "* State : input\n",
    "* Action : action on input using policy \n",
    "* Policy : reward or punishment\n",
    "* Feedback : reward or penality \n",
    "x\n",
    "# Agent intracts with environment\n",
    "* Agent and Environment\n",
    "# starting from the current state what will be the output "
   ]
  },
  {
   "cell_type": "raw",
   "id": "eaabfddb-1bb1-411c-addc-a23c6bcbce7b",
   "metadata": {},
   "source": [
    "# Sensation , Action , Goal \n"
   ]
  }
 ],
 "metadata": {
  "kernelspec": {
   "display_name": "Python 3 (ipykernel)",
   "language": "python",
   "name": "python3"
  },
  "language_info": {
   "codemirror_mode": {
    "name": "ipython",
    "version": 3
   },
   "file_extension": ".py",
   "mimetype": "text/x-python",
   "name": "python",
   "nbconvert_exporter": "python",
   "pygments_lexer": "ipython3",
   "version": "3.12.7"
  }
 },
 "nbformat": 4,
 "nbformat_minor": 5
}
